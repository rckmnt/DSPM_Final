{
 "cells": [
  {
   "cell_type": "markdown",
   "metadata": {},
   "source": [
    "# Question 1: Discard the rows where consumer complaint narrative is blank. How many rows does this yield?"
   ]
  },
  {
   "cell_type": "markdown",
   "metadata": {},
   "source": [
    "# NOTE:\n",
    "\n",
    "Part of the cell below is commented because after the original dataset was cleaned, I saved it to a separate csv file. For the future, I will import from that file and conduct analysis."
   ]
  },
  {
   "cell_type": "code",
   "execution_count": 1,
   "metadata": {},
   "outputs": [],
   "source": [
    "import pandas as pd\n",
    "import numpy as np\n",
    "import seaborn as sns\n",
    "import nltk\n",
    "pd.set_option('display.max_colwidth', -1)\n",
    "\n",
    "\n",
    "# Import, clean, and save new csv.\n",
    "# df = pd.read_csv(\n",
    "#     \"Consumer_Complaints.csv\",\n",
    "#     names=[\"date_r\", \"product\", \"sproduct\", \"issue\", \"sissue\", \"ccn\", \"cpr\", \"company\", \"state\", \"zip\", \"tags\", \"ccp\", \"svia\", \"date_s\", \"crtc\", \"tr\", \"cd\", \"cid\"],\n",
    "#     parse_dates=True,\n",
    "#     header=0,\n",
    "#     low_memory=False\n",
    "# )\n",
    "\n",
    "# previous_length = df.shape[0]\n",
    "# udf = df[pd.notnull(df['ccn'])]\n",
    "# new_length = udf.shape[0]\n",
    "# print \"New dataframe size: \" + str(new_length)\n",
    "# print \"Reduction: \" + str(previous_length - new_length)\n",
    "\n",
    "# udf.to_csv(\n",
    "#     \"updated_complaints.csv\",\n",
    "#     header=[\"date_r\", \"product\", \"sproduct\", \"issue\", \"sissue\", \"ccn\", \"cpr\", \"company\", \"state\", \"zip\", \"tags\", \"ccp\", \"svia\", \"date_s\", \"crtc\", \"tr\", \"cd\", \"cid\"],\n",
    "# )\n",
    "\n",
    "df = pd.read_csv(\n",
    "    \"updated_complaints.csv\",\n",
    "    names=[\"date_r\", \"product\", \"sproduct\", \"issue\", \"sissue\", \"ccn\", \"cpr\", \"company\", \"state\", \"zip\", \"tags\", \"ccp\", \"svia\", \"date_s\", \"crtc\", \"tr\", \"cd\", \"cid\"],\n",
    "    header=0,\n",
    "    parse_dates=True,\n",
    "    low_memory=False,\n",
    "    encoding=\"utf-8\"\n",
    ")"
   ]
  },
  {
   "cell_type": "markdown",
   "metadata": {},
   "source": [
    "# Answer 1\n",
    "New dataframe size: 269982 rows.\n",
    "\n",
    "Reduction: 738171 rows removed."
   ]
  },
  {
   "cell_type": "markdown",
   "metadata": {},
   "source": [
    "# Question 2: Identify the bank that the complaint is about by extracting bank name from consumer complaint narrative. \n",
    "\n",
    "It is OK to assume that any “Organization” name extracted will refer to the banks – determining whether an arbitrary Organization name is in fact a bank or other financial institution is beyond the scope of the assignment."
   ]
  },
  {
   "cell_type": "code",
   "execution_count": 114,
   "metadata": {},
   "outputs": [
    {
     "data": {
      "text/plain": [
       "1        None\n",
       "2        None\n",
       "7        None\n",
       "12       None\n",
       "16       None\n",
       "25       None\n",
       "26       None\n",
       "28       None\n",
       "29       None\n",
       "36       None\n",
       "43       None\n",
       "49       None\n",
       "61       None\n",
       "64       None\n",
       "69       None\n",
       "80       None\n",
       "83       None\n",
       "85       None\n",
       "90       None\n",
       "95       None\n",
       "98       None\n",
       "99       None\n",
       "103      None\n",
       "106      None\n",
       "108      None\n",
       "119      None\n",
       "125      None\n",
       "137      None\n",
       "153      None\n",
       "154      None\n",
       "         ... \n",
       "91861    None\n",
       "91862    None\n",
       "91867    None\n",
       "91874    None\n",
       "91878    None\n",
       "91887    None\n",
       "91889    None\n",
       "91890    None\n",
       "91894    None\n",
       "91899    None\n",
       "91911    None\n",
       "91913    None\n",
       "91918    None\n",
       "91927    None\n",
       "91928    None\n",
       "91929    None\n",
       "91930    None\n",
       "91931    None\n",
       "91936    None\n",
       "91937    None\n",
       "91949    None\n",
       "91958    None\n",
       "91959    None\n",
       "91963    None\n",
       "91976    None\n",
       "91987    None\n",
       "91993    None\n",
       "91994    None\n",
       "91999    None\n",
       "92000    None\n",
       "Length: 20000, dtype: object"
      ]
     },
     "execution_count": 114,
     "metadata": {},
     "output_type": "execute_result"
    }
   ],
   "source": [
    "import spacy\n",
    "import matplotlib.pyplot as plt\n",
    "from collections import Counter\n",
    "# Downloaded spacy and the small core entities model - this performs POS tagging and grammar-based NE-chunking\n",
    "nlp = spacy.load('en_core_web_sm')\n",
    "\n",
    "\n",
    "# Test on a subset of the data.\n",
    "udf = df[:20000]\n",
    "bank_names = set(udf['company'])\n",
    "# bank_names = set(df['company'])\n",
    "count_list = []\n",
    "count_dict = {}\n",
    "\n",
    "def extract_entities(row):\n",
    "    sentence = row['ccn']\n",
    "    doc = nlp(sentence)\n",
    "    for ent in doc.ents:\n",
    "        if ent.label_ == \"ORG\":\n",
    "            count_list.append(ent.text.title().encode('utf-8'))\n",
    "\n",
    "udf.apply(extract_entities, axis=1)\n"
   ]
  },
  {
   "cell_type": "code",
   "execution_count": 75,
   "metadata": {},
   "outputs": [
    {
     "data": {
      "text/plain": [
       "<matplotlib.axes._subplots.AxesSubplot at 0x12815a6d0>"
      ]
     },
     "execution_count": 75,
     "metadata": {},
     "output_type": "execute_result"
    },
    {
     "data": {
      "image/png": "[encoded data removed]",
      "text/plain": [
       "<Figure size 432x288 with 1 Axes>"
      ]
     },
     "metadata": {},
     "output_type": "display_data"
    }
   ],
   "source": [
    "# print len(count_list)\n",
    "exc = [\"xx\", \"xx/\"]\n",
    "updated_counts = []\n",
    "for word in count_list:\n",
    "    for w in exc:\n",
    "        if w in word:\n",
    "            continue\n",
    "        else:\n",
    "            updated_counts.append(word)\n",
    "\n",
    "counts = Counter(updated_counts)\n",
    "count_df = pd.DataFrame.from_dict(counts, orient=\"index\")\n",
    "# count_df.head()\n",
    "reduced_count_df = count_df.loc[count_df[0] > 1000]\n",
    "# Filtering only banks with counts greater than 10 so that the graph isn't congested\n",
    "reduced_count_df.plot(kind=\"bar\")"
   ]
  },
  {
   "cell_type": "markdown",
   "metadata": {},
   "source": [
    "# Note:\n",
    "Because of the sheer size of the dataset, I tagged the first 20000 rows and graphed entities that appeared more than 1000 times. I additionally attempted to take some of the \"XXX\" organizations out."
   ]
  },
  {
   "cell_type": "markdown",
   "metadata": {},
   "source": [
    "# Question 3: Create a model to predict the product based on the consumer complaint narrative. What modeling techniques could you use? How accurate are your predictions for each field, and how did you evaluate this?"
   ]
  },
  {
   "cell_type": "code",
   "execution_count": 111,
   "metadata": {},
   "outputs": [],
   "source": [
    "from sklearn.linear_model import LogisticRegression\n",
    "from sklearn.model_selection import train_test_split\n",
    "from sklearn.feature_extraction.text import CountVectorizer\n",
    "from spacy.lang.en.stop_words import STOP_WORDS\n",
    "\n",
    "other_stop_words = [\"credit\", \"nothing\", \"bank\", \"$\", \"&\", \"claim\", \"statement\", \"default\", \"ssn\", \"xxxx\", \"xx/xx/xxxx\",\n",
    "                   \"xxxx.\", \"xxxx,\", \"xxxx\", \"''\", \"loan\", \"service\", \"wells\", \"email\", \"reporting\", \"balance\",\n",
    "                   \"days\", \"debt\", \"even\", \"number\", \"since\", \"(\", \"fees\", \"deposit\", \"'\", \":\", \"account\", \"payment\",\n",
    "                   \"payments\", \"money\", \"n't\", '\"', \"'s\", \"call\", \"called\", \"report.\", \"report\", \"told\", \"would\",\n",
    "                   \"information\", \"accounts\", \"please\", \"get\", \"sent\", \"one\", \")\", \"received\", \"paid\", \"pay\", \"xx/xx/xxxx.\",\n",
    "                   \"xx/xx/xxxx,\", \"said\", \"back\", \"account.\", \"-\", \"https\", \"never\", \"could\", \"help\", \"still\",\n",
    "                   \"made\", \"amount\", \"never\", 'please','accounts','company','bank', 'never','funds','card', 'loan',\n",
    "                    'made','due','time', 'back','get','also','still', 'check','letter','phone','late','chase','customer',\n",
    "                    'asked','make','interest', \"take\", \"took\", \"fee\", \"went\", \"going\", \"know\", \"went\", \"loans.\", \"loan.\",\n",
    "                   \"month\", \"years\", \"card.\", \"months\", \"paying\", \"%\", \"got\", \"day\", \"financial\", \"loans\", \"new\", \"charges\",\n",
    "                   \"charged\", \"charge\", \"calls\", \"paying\", \"remove\", \"removed\", \"reported\", \"file\", \"finance\", \"contacted\",\n",
    "                   \"calls\", \"us\", \"charges\", \"capital\", \"cash\", \";\", \"closed\", \"dispute\", \"america\", \"transaction\", \"send\",\n",
    "                   \"refund\", \"cash\", \"paying\", \"use\", \"support\", \"case\", \"send\", \"inquiry\", \"inquiries\", \"stated\", \"disputed\",\n",
    "                   \"#\", \"name\", \"date\", \"me.\", \"like\", \"times\", \"fargo\", \"documents\", \"american\", \"without\", ').', \"like\",\n",
    "                   \"first\", \"contact\", \"tried\", \"want\", \",\", \"online\", \"two\", \"business\", \"contact\", \"tried\", \"response\",\n",
    "                   \"debit\", \"like\", \"another\"]\n",
    "for word in other_stop_words:\n",
    "    STOP_WORDS.add(word)\n",
    "\n",
    "\n",
    "ndf = df\n",
    "mask = ndf['product'] != \"Credit reporting, credit repair services, or other personal consumer reports\"\n",
    "ndf = ndf.loc[mask]\n",
    "\n",
    "X = ndf['ccn']\n",
    "Y = ndf['product']\n",
    "all_labels = list(Y.unique())\n",
    "high_frequency_words = {}\n",
    "\n",
    "# Should be able to group and use CountVectorizer for this, don't know how yet\n",
    "for label in all_labels:\n",
    "    label_df = ndf[ndf[\"product\"] == label]\n",
    "    word_counts = {}\n",
    "    for doc in label_df['ccn']:\n",
    "        filtered_words = [word for word in doc.lower().split() if word not in STOP_WORDS]\n",
    "        for word in filtered_words:\n",
    "            if word not in word_counts:\n",
    "                word_counts[word] = 1\n",
    "            else:\n",
    "                word_counts[word] += 1\n",
    "    hf_occ = sorted(word_counts.items(), key=lambda x:x[1], reverse=True)\n",
    "    high_frequency_words[label] = hf_occ[0:30]\n",
    "    # Get the top 10 most occuring words for each label and hash it\n",
    "\n",
    "unique_hf_words = set()\n",
    "for k,v in high_frequency_words.items():\n",
    "    for word in v:\n",
    "        unique_hf_words.add(word[0])\n",
    "\n",
    "unique_hf_words = list(unique_hf_words)\n",
    "\n",
    "# Get binary feats for all unique high-frequency words for all points.\n",
    "def one_hot(doc):\n",
    "    global unique_hf_words\n",
    "    feature_set = {}\n",
    "    words = []\n",
    "    feats = np.zeros(len(unique_hf_words))\n",
    "    for word in doc.lower().split():\n",
    "        words.append(word)\n",
    "    for word in set(words):\n",
    "        if word in unique_hf_words:\n",
    "            feats[unique_hf_words.index(word)] = 1\n",
    "    return feats\n",
    "\n",
    "data = [(one_hot(original_feats), lbl) for original_feats, lbl in zip(X, Y)]\n",
    "split = int(len(data) * 0.1)\n",
    "train_data, test_data = data[split:], data[0:split]\n",
    "X_train, Y_train = zip(*train_data)\n",
    "X_test, Y_test = zip(*test_data)\n",
    "\n"
   ]
  },
  {
   "cell_type": "code",
   "execution_count": 113,
   "metadata": {},
   "outputs": [
    {
     "name": "stdout",
     "output_type": "stream",
     "text": [
      "16112\n",
      "22420\n",
      "Score: 0.718644067797\n"
     ]
    }
   ],
   "source": [
    "clf = LogisticRegression(multi_class=\"multinomial\", solver=\"lbfgs\")\n",
    "clf.fit(X_train, Y_train)\n",
    "\n",
    "score_counter = 0\n",
    "for test_feats, test_label in zip(X_test, Y_test):\n",
    "    prediction = clf.predict(np.array([test_feats]))\n",
    "    if(prediction == np.array([test_label])):\n",
    "        score_counter += 1\n",
    "print score_counter\n",
    "print len(Y_test)\n",
    "print \"Score: \" + str(float(score_counter) / float(len(Y_test)))"
   ]
  },
  {
   "cell_type": "markdown",
   "metadata": {},
   "source": [
    "# Answer\n",
    "\n",
    "Given the dataset is categorical(text) and the output label is categorical, modifications need to be made in order to support proper logistic regression. So I used one-hot encodign to collect top occuring features for each label, and made them binary features based on whether they exist in the narrative or not.\n",
    "\n"
   ]
  }
 ],
 "metadata": {
  "kernelspec": {
   "display_name": "Python 2",
   "language": "python",
   "name": "python2"
  },
  "language_info": {
   "codemirror_mode": {
    "name": "ipython",
    "version": 2
   },
   "file_extension": ".py",
   "mimetype": "text/x-python",
   "name": "python",
   "nbconvert_exporter": "python",
   "pygments_lexer": "ipython2",
   "version": "2.7.10"
  }
 },
 "nbformat": 4,
 "nbformat_minor": 2
}
